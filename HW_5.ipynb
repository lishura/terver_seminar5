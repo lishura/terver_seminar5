{
 "cells": [
  {
   "attachments": {},
   "cell_type": "markdown",
   "metadata": {},
   "source": [
    "#### Задача 1. \n",
    "Когда используется критерий Стьюдента, а когда Z –критерий?\n",
    "\n",
    "Критерий Стьюдента (t - критерий)используется для сравнения средних значений двух групп, когда стандартное отклонение совокупности неизвестно, а Z-критерий используется, когда известно стандартное отклонение совокупности и размер выборки большой.\n",
    "T-тесты основаны на t-распределении, которое используется для меньших размеров выборки и неизвестных стандартных отклонений населения, тогда как Z-тесты используют стандартное нормальное распределение."
   ]
  },
  {
   "attachments": {},
   "cell_type": "markdown",
   "metadata": {},
   "source": [
    "#### Задача 2. \n",
    "Проведите тест гипотезы. Утверждается, что шарики для подшипников, изготовленные\n",
    "автоматическим станком, имеют средний диаметр 17 мм.\n",
    "Используя односторонний критерий с α=0,05, проверить эту гипотезу, если в выборке из\n",
    "n=100 шариков средний диаметр\n",
    "оказался равным 17.5 мм, а дисперсия известна и равна 4 кв. мм."
   ]
  },
  {
   "attachments": {},
   "cell_type": "markdown",
   "metadata": {},
   "source": [
    "Н0 - шарики для подшипников, изготовленные\n",
    "автоматическим станком, имеют средний диаметр 17 мм\n",
    "Н1 - средний диаметр шариков не равен 17 мм\n"
   ]
  },
  {
   "cell_type": "code",
   "execution_count": 70,
   "metadata": {},
   "outputs": [],
   "source": [
    "import numpy as np\n",
    "from scipy import stats"
   ]
  },
  {
   "cell_type": "code",
   "execution_count": 71,
   "metadata": {},
   "outputs": [
    {
     "data": {
      "text/plain": [
       "2.5"
      ]
     },
     "execution_count": 71,
     "metadata": {},
     "output_type": "execute_result"
    }
   ],
   "source": [
    "# Известна дисперсия, значит и сигма, значит используем z - критерий\n",
    "z = (17.5 - 17) / (2/100**0.5)\n",
    "z"
   ]
  },
  {
   "cell_type": "code",
   "execution_count": 72,
   "metadata": {},
   "outputs": [
    {
     "data": {
      "text/plain": [
       "1.6448536269514722"
      ]
     },
     "execution_count": 72,
     "metadata": {},
     "output_type": "execute_result"
    }
   ],
   "source": [
    "alpha = 0.05\n",
    "stats.norm.ppf(1 - alpha)"
   ]
  },
  {
   "attachments": {},
   "cell_type": "markdown",
   "metadata": {},
   "source": [
    "Наблюдаемое значение больше табличного. Значит отвергаем гипотезу H0. Принимаем гипотезу Н1"
   ]
  },
  {
   "attachments": {},
   "cell_type": "markdown",
   "metadata": {},
   "source": [
    "#### Задача 3. \n",
    "Проведите тест гипотезы. Продавец утверждает, что средний вес пачки печенья\n",
    "составляет 200 г.\n",
    "Из партии извлечена выборка из 10 пачек. Вес каждой пачки составляет:\n",
    "202, 203, 199, 197, 195, 201, 200, 204, 194, 190.\n",
    "Известно, что их веса распределены нормально.\n",
    "Верно ли утверждение продавца, если учитывать, что доверительная вероятность равна\n",
    "99%? (Провести двусторонний тест.)"
   ]
  },
  {
   "cell_type": "code",
   "execution_count": 73,
   "metadata": {},
   "outputs": [
    {
     "data": {
      "text/plain": [
       "(198.5, 4.453463071962462, -1.0651074037450896)"
      ]
     },
     "execution_count": 73,
     "metadata": {},
     "output_type": "execute_result"
    }
   ],
   "source": [
    "x = np.array([202, 203, 199, 197, 195, 201, 200, 204, 194, 190])\n",
    "x_mean = x.mean()\n",
    "x_std = x.std(ddof = 1)\n",
    "\n",
    "t = (x_mean - 200) / (x_std / 10**0.5)\n",
    "x_mean, x_std, t"
   ]
  },
  {
   "attachments": {},
   "cell_type": "markdown",
   "metadata": {},
   "source": [
    "H0 - средний вес пачки печенья составляет 200 г.\n",
    "Н1 - средний вес пачки печенья не равен 200 г."
   ]
  },
  {
   "cell_type": "code",
   "execution_count": 74,
   "metadata": {},
   "outputs": [
    {
     "data": {
      "text/plain": [
       "(-3.2498355440153697, 3.2498355440153697)"
      ]
     },
     "execution_count": 74,
     "metadata": {},
     "output_type": "execute_result"
    }
   ],
   "source": [
    "\n",
    "alfa = 0.01\n",
    "t1 = stats.t.ppf(alfa / 2, df = 10 - 1)\n",
    "t2 = stats.t.ppf(1 - alfa / 2, df = 10 - 1)\n",
    "t1, t2"
   ]
  },
  {
   "attachments": {},
   "cell_type": "markdown",
   "metadata": {},
   "source": [
    "t попадает внутрь интервала между t1 и t2. Значит принимаем гипотезу Н0. Средний вес пачки печенья 200 г."
   ]
  },
  {
   "attachments": {},
   "cell_type": "markdown",
   "metadata": {},
   "source": [
    "#### Задача 4. \n",
    "Есть ли статистически значимые различия в росте дочерей?\n",
    "Рост матерей 172, 177, 158, 170, 178,175, 164, 160, 169, 165\n",
    "Рост взрослых дочерей: 173, 175, 162, 174, 175, 168, 155, 170, 160, 163"
   ]
  },
  {
   "cell_type": "code",
   "execution_count": 75,
   "metadata": {},
   "outputs": [
    {
     "data": {
      "text/plain": [
       "TtestResult(statistic=0.6648478531431979, pvalue=0.5228168632983574, df=9)"
      ]
     },
     "execution_count": 75,
     "metadata": {},
     "output_type": "execute_result"
    }
   ],
   "source": [
    "m = np.array([172, 177, 158, 170, 178,175, 164, 160, 169, 165])\n",
    "d = np.array([173, 175, 162, 174, 175, 168, 155, 170, 160, 163])\n",
    "stats.ttest_rel(m, d)"
   ]
  },
  {
   "attachments": {},
   "cell_type": "markdown",
   "metadata": {},
   "source": [
    "pvalue(0.5228168632983574) > alfa (0.05), значит Н0 не отвергается, статистически значимых различий не обнаружено на уровне значимости alpha = 0.05"
   ]
  }
 ],
 "metadata": {
  "kernelspec": {
   "display_name": "Python 3",
   "language": "python",
   "name": "python3"
  },
  "language_info": {
   "codemirror_mode": {
    "name": "ipython",
    "version": 3
   },
   "file_extension": ".py",
   "mimetype": "text/x-python",
   "name": "python",
   "nbconvert_exporter": "python",
   "pygments_lexer": "ipython3",
   "version": "3.11.1"
  },
  "orig_nbformat": 4
 },
 "nbformat": 4,
 "nbformat_minor": 2
}
